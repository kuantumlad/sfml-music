{
 "cells": [
  {
   "cell_type": "code",
   "execution_count": 11,
   "metadata": {
    "collapsed": true
   },
   "outputs": [],
   "source": [
    "import numpy as np\n",
    "import matplotlib.pyplot as plt\n",
    "%matplotlib inline\n",
    "\n",
    "def DFT_slow(x):\n",
    "    \"\"\"Compute the discrete Fourier Transform of the 1D array x\"\"\"\n",
    "    x = np.asarray(x, dtype=float)\n",
    "    #print x\n",
    "    N = x.shape[0]\n",
    "    #print N\n",
    "    n = np.arange(N)\n",
    "    #print n\n",
    "    print ' make k '\n",
    "    k = n.reshape((N, 1))\n",
    "    #print k\n",
    "    M = np.exp(-2j * np.pi * k * n / N)\n",
    "    #print M\n",
    "    return np.dot(M, x)/N\n",
    "\n"
   ]
  },
  {
   "cell_type": "code",
   "execution_count": 276,
   "metadata": {
    "collapsed": false
   },
   "outputs": [
    {
     "name": "stdout",
     "output_type": "stream",
     "text": [
      "[0.         0.         0.         0.         0.         0.\n",
      " 0.         0.         0.         0.         0.         0.\n",
      " 0.         0.         0.         0.         0.         0.\n",
      " 0.         0.         0.         0.         0.         0.\n",
      " 0.         0.         0.         0.         0.         0.\n",
      " 0.         0.         0.         0.         0.         0.\n",
      " 0.         0.         0.         0.         0.84147098 0.84147098\n",
      " 0.84147098 0.84147098 0.84147098 0.84147098 0.84147098 0.84147098\n",
      " 0.84147098 0.84147098]\n",
      " make k \n"
     ]
    }
   ],
   "source": [
    "\n"
   ]
  },
  {
   "cell_type": "code",
   "execution_count": 277,
   "metadata": {
    "collapsed": false
   },
   "outputs": [
    {
     "name": "stdout",
     "output_type": "stream",
     "text": [
      "[[ 1.68294197e-01+0.00000000e+00j]\n",
      " [ 1.21387469e-01+1.00420448e-01j]\n",
      " [ 2.39296036e-02+1.25443375e-01j]\n",
      " [-4.11504151e-02+7.48523272e-02j]\n",
      " [-3.69835214e-02+1.46428120e-02j]\n",
      " [-6.21724894e-17+7.99360578e-17j]\n",
      " [ 1.43985073e-02+2.26884170e-02j]\n",
      " [-4.71147809e-03+3.72951894e-02j]\n",
      " [-2.42191708e-02+2.27433152e-02j]\n",
      " [-1.84249183e-02+1.15919761e-03j]\n",
      " [-7.43849426e-17+1.33226763e-17j]\n",
      " [ 3.85938005e-03+1.50312929e-02j]\n",
      " [-9.95535298e-03+2.11562020e-02j]\n",
      " [-1.98669960e-02+9.34869871e-03j]\n",
      " [-1.24349669e-02-3.19275684e-03j]\n",
      " [-5.10702591e-17-6.55031585e-17j]\n",
      " [-7.35649170e-04+1.16928087e-02j]\n",
      " [-1.25032433e-02+1.33146018e-02j]\n",
      " [-1.75497840e-02+2.21705330e-03j]\n",
      " [-8.98297976e-03-5.70077231e-03j]\n",
      " [ 2.25375274e-16+3.07531778e-16j]\n",
      " [-3.75963511e-03+9.49575434e-03j]\n",
      " [-1.42788451e-02+7.84986151e-03j]\n",
      " [-1.58471836e-02-3.02301194e-03j]\n",
      " [-6.31791907e-03-7.63705224e-03j]\n",
      " [ 0.00000000e+00-1.89675376e-16j]\n",
      " [-6.31791907e-03+7.63705224e-03j]\n",
      " [-1.58471836e-02+3.02301194e-03j]\n",
      " [-1.42788451e-02-7.84986151e-03j]\n",
      " [-3.75963511e-03-9.49575434e-03j]\n",
      " [-3.63042929e-16+1.64313008e-16j]\n",
      " [-8.98297976e-03+5.70077231e-03j]\n",
      " [-1.75497840e-02-2.21705330e-03j]\n",
      " [-1.25032433e-02-1.33146018e-02j]\n",
      " [-7.35649170e-04-1.16928087e-02j]\n",
      " [ 6.15063556e-16+6.97220059e-16j]\n",
      " [-1.24349669e-02+3.19275684e-03j]\n",
      " [-1.98669960e-02-9.34869871e-03j]\n",
      " [-9.95535298e-03-2.11562020e-02j]\n",
      " [ 3.85938005e-03-1.50312929e-02j]\n",
      " [ 3.01980663e-16+7.54951657e-17j]\n",
      " [-1.84249183e-02-1.15919761e-03j]\n",
      " [-2.42191708e-02-2.27433152e-02j]\n",
      " [-4.71147809e-03-3.72951894e-02j]\n",
      " [ 1.43985073e-02-2.26884170e-02j]\n",
      " [ 1.50990331e-16-1.64313008e-16j]\n",
      " [-3.69835214e-02-1.46428120e-02j]\n",
      " [-4.11504151e-02-7.48523272e-02j]\n",
      " [ 2.39296036e-02-1.25443375e-01j]\n",
      " [ 1.21387469e-01-1.00420448e-01j]]\n"
     ]
    }
   ],
   "source": [
    "print F.reshape((len(F),1))"
   ]
  },
  {
   "cell_type": "code",
   "execution_count": 278,
   "metadata": {
    "collapsed": false
   },
   "outputs": [
    {
     "name": "stdout",
     "output_type": "stream",
     "text": [
      "5\n",
      "10\n",
      "15\n",
      "20\n",
      "24\n",
      "25\n",
      "26\n",
      "30\n",
      "35\n",
      "40\n",
      "45\n",
      "[1.68294197e-01 1.57541055e-01 1.27705388e-01 8.54179580e-02\n",
      " 3.97767871e-02 1.01267921e-16 2.68715700e-02 3.75916105e-02\n",
      " 3.32238862e-02 1.84613476e-02 7.55686006e-17 1.55188460e-02\n",
      " 2.33814870e-02 2.19566778e-02 1.28383059e-02 8.30592267e-17\n",
      " 1.17159274e-02 1.82649860e-02 1.76892692e-02 1.06392072e-02\n",
      " 3.81273928e-16 1.02129431e-02 1.62943469e-02 1.61329423e-02\n",
      " 9.91164307e-03 1.89675376e-16 9.91164307e-03 1.61329423e-02\n",
      " 1.62943469e-02 1.02129431e-02 3.98495838e-16 1.06392072e-02\n",
      " 1.76892692e-02 1.82649860e-02 1.17159274e-02 9.29741356e-16\n",
      " 1.28383059e-02 2.19566778e-02 2.33814870e-02 1.55188460e-02\n",
      " 3.11274542e-16 1.84613476e-02 3.32238862e-02 3.75916105e-02\n",
      " 2.68715700e-02 2.23152066e-16 3.97767871e-02 8.54179580e-02\n",
      " 1.27705388e-01 1.57541055e-01]\n"
     ]
    },
    {
     "data": {
      "image/png": "[encoded data removed]",
      "text/plain": [
       "<matplotlib.figure.Figure at 0x11be35110>"
      ]
     },
     "metadata": {},
     "output_type": "display_data"
    }
   ],
   "source": [
    "########\n",
    "amp = abs(F)\n",
    "#plt.plot(x*6.28, x_sin)\n",
    "plt.plot(x_sin)\n",
    "for i in np.arange(len(amp)):\n",
    "    if amp[i] < 0.01:\n",
    "        print i\n",
    "print amp"
   ]
  },
  {
   "cell_type": "code",
   "execution_count": null,
   "metadata": {
    "collapsed": true
   },
   "outputs": [],
   "source": []
  },
  {
   "cell_type": "code",
   "execution_count": null,
   "metadata": {
    "collapsed": true
   },
   "outputs": [],
   "source": []
  },
  {
   "cell_type": "code",
   "execution_count": 2,
   "metadata": {
    "collapsed": true
   },
   "outputs": [],
   "source": [
    "import random\n",
    "import math\n",
    "import cmath\n",
    "pi2 = cmath.pi * 2.0\n",
    "def DFT(fnList):\n",
    "    N = len(fnList)\n",
    "    FmList = []\n",
    "    for m in range(N):\n",
    "        Fm = 0.0\n",
    "        for n in range(N):\n",
    "            Fm += fnList[n] * cmath.exp(- 1j * pi2 * m * n / N)\n",
    "        FmList.append(Fm / N)\n",
    "    return FmList"
   ]
  },
  {
   "cell_type": "code",
   "execution_count": 5,
   "metadata": {
    "collapsed": false
   },
   "outputs": [
    {
     "name": "stdout",
     "output_type": "stream",
     "text": [
      "Input Sine Wave Signal:\n",
      "frequency = 255\n",
      "amplitude = 60.0\n",
      "phase ang = 0.0\n",
      "\n",
      "DFT Calculation Results:\n",
      "frequency = 105\n",
      "amplitude = 60.0\n",
      "phase ang = 180\n",
      "frequency = 255\n",
      "amplitude = 60.0\n",
      "phase ang = 360\n"
     ]
    }
   ],
   "source": [
    "# TEST\n",
    "print \"Input Sine Wave Signal:\"\n",
    "N = 360 #360 # degrees (Number of samples)\n",
    "a = float(random.randint(1, 100))\n",
    "f = 255 #float(random.randint(1, 100))\n",
    "p = 0.0 #float(random.randint(0, 360))\n",
    "print \"frequency = \" + str(f)\n",
    "print \"amplitude = \" + str(a)\n",
    "print \"phase ang = \" + str(p)\n",
    "print\n",
    "fnList = []\n",
    "for n in range(N):\n",
    "    t = float(n)  / N * pi2\n",
    "    fn = a * math.sin(f * t + p / 360 * pi2)\n",
    "    #print fn\n",
    "    fnList.append(fn)\n",
    "\n",
    "print \"DFT Calculation Results:\"\n",
    "FmList = DFT(fnList)\n",
    "threshold = 0.001\n",
    "for (i, Fm) in enumerate(FmList):\n",
    "    if abs(Fm) > threshold:\n",
    "        print \"frequency = \" + str(i)\n",
    "        print \"amplitude = \" + str(abs(Fm) * 2.0)\n",
    "        p = int(((cmath.phase(Fm) + pi2 + pi2 / 4.0) % pi2) / pi2 * 360 + 0.5)\n",
    "        print \"phase ang = \" + str(p)\n"
   ]
  },
  {
   "cell_type": "code",
   "execution_count": 12,
   "metadata": {
    "collapsed": false
   },
   "outputs": [
    {
     "name": "stdout",
     "output_type": "stream",
     "text": [
      "[ 0  0  0 -1  1  1  1  0  1  0  1  1  1  1 -1  1  0  0  0  0  1  1  0  1\n",
      "  0  1  1  0 -1 -1  0  0  1  0  1  0 -1  0 -1  1  0 -1  0 -1  1  0  0  1\n",
      " -1  0 -1  1  1  1  1  0  1  0  0 -1  0  0 -1  0  0 -1  0  0 -1 -1  0  0\n",
      "  0  0  0  0  0  0 -1  0  1  0  1 -1  0 -1 -1  1  1 -1  1  0  0  0  1  1\n",
      "  1  0  1  1 -1  0  0  0  1  0  0  0  0 -1  0  0  0  1  1  1  0  0  0  1\n",
      "  0  1  1  0 -1  0  1 -1 -1  1  1  0  0  0  0  0  0 -1 -1  0 -1  0 -1 -1\n",
      " -1  1 -1 -1  0 -1  0 -1 -1  0  0  1  0 -1  0  1  1  0  1  0  0 -1 -1  0\n",
      "  0  0  0  0  0  1 -1  0  0  0  0  0  0 -1  1  0  0  1  1  1  1  0  0 -1\n",
      "  1 -1  1 -1  1  1 -1  1  1  0 -1 -1  1  1  0 -1  0 -1  1  0  0 -1  1 -1\n",
      "  0  0  1  0 -1  0  1 -1 -1 -1  0  1 -1  1  0 -1 -1  1  0  0 -1  0  0  0\n",
      "  0  0  0  0  0  0  0  0  0  1  0  0  1  0  1  0  0  0  1  1  0 -1  0  0\n",
      " -1 -1  1  1  1 -1  1  0 -1  0  0  1  0 -1  0  0 -1 -1  1  1 -1 -1 -1  0\n",
      "  0  0  0  0  0  0  1  1 -1 -1  1 -1  0  0  0  0  1  1  0  1  0  1  0 -1\n",
      "  0  0  1  0  1  0  0  0  0  1  0 -1 -1 -1  0  0  0  0  0 -1 -1 -1  0  0\n",
      "  1  0  0 -1  1  1  1  1  1 -1  0  0  0  0  1  1 -1  0  0  0  0  1  0 -1\n",
      " -1  0  0 -1  0  1 -1  0 -1 -1  1  0 -1 -1  0  1  1  0  0  0  0 -1  0  0\n",
      "  0  1  0  1 -1 -1 -1  1  0  0  0  1  0 -1 -1 -1  0  1  0  0  0  0  1  1\n",
      "  1  1  0  0  0  0 -1  0  0  0  0  0  0  0 -1  1  0  0 -1  0  1 -1  0 -1\n",
      "  0 -1 -1  1  0  0  0 -1  0 -1  0  0  0  1  0  0 -1  1 -1  1 -1  1  0  0\n",
      " -1  1  0  1  1 -1 -1  1  1  1  1  0  1 -1  0  0  1  0  0  1 -1  0  0 -1\n",
      "  0  0  1  0  0  1  0  1  0  1 -1  0  0  0  0 -1 -1 -1  1  0  0  0  1  1\n",
      " -1  0  0  0 -1  0  0  0  0  1  0  0  0  1  0  1 -1  1  0  0  0  1 -1 -1\n",
      "  1  1 -1  0  0  0 -1 -1 -1  1 -1  1  1  0  1  0  0  0  0  0  1  1 -1  0\n",
      " -1  1  1  0 -1  1 -1  0 -1 -1  0  0 -1  0 -1  1  1 -1  0 -1  1  1  1  1\n",
      " -1  1  1 -1  0  0  1  0 -1  1  0  0 -1  0  0  0  0  0  1  0  0 -1 -1  0\n",
      "  0  0  0 -1  0  0  0 -1  1  0 -1 -1  0 -1  0 -1  1  1  0 -1  1  1  0  0\n",
      "  1  1  0  1 -1 -1 -1  0  1  0 -1 -1  1 -1 -1  1  1  0  0  0 -1 -1 -1  0\n",
      "  0  0  0  0 -1 -1  0  0  1  0 -1  0  0  0  1 -1 -1  1  0  1  0  0  0 -1\n",
      " -1 -1 -1 -1 -1 -1  0  0  0  0  0 -1  1  1 -1  0 -1  0 -1  0 -1  1  0 -1\n",
      " -1  1  0  0  1  0  1 -1  0 -1  1 -1  1  0 -1 -1  1  0  1  0 -1  0  0  1\n",
      "  0 -1  0 -1  1  0 -1  0  1 -1  1  1  0 -1 -1  0  0  1  1  0  1 -1  0 -1\n",
      "  0  0 -1  0 -1  1  1 -1  0 -1  0  1  0  0  0  0  0 -1 -1 -1 -1  0  0  1\n",
      "  0  1 -1 -1  1 -1  0 -1  0 -1  1  0  0 -1  1  1  0  0 -1  1 -1  1 -1  0\n",
      "  0 -1 -1  0 -1  1  0  0 -1  0  0 -1  0 -1  1 -1  1 -1  0  0  0  1 -1 -1\n",
      "  1  0  0  0  1  0  0 -1  1  0  0  0  0  0  0  1  1  0  1  0  1  0  1  0\n",
      " -1  1  0 -1  1  0  1 -1  0 -1  0  0  1  1  1  0  0  0  1 -1  0  0  0  1\n",
      "  1  1  0  0  1  1  1  0 -1  0  0  0  1  0  1  0  0 -1  0  0  0  1 -1 -1\n",
      "  0  0  1  1  1  0  0  0  0  0 -1  0  1  0  1 -1 -1  0  1  1  0  0  0  0\n",
      "  0  0  0 -1  0  1 -1  1  1  0  0  0 -1  1 -1  0  1 -1 -1  1 -1  0  0  0\n",
      "  0 -1 -1 -1  0  0  0  0 -1  0  1  1  0 -1 -1  0 -1  0  0  1  0  0  1  0\n",
      "  1  1 -1  1 -1  0  0 -1 -1  0  1  0 -1  0  1  0  1  0 -1 -1  0  1 -1  0\n",
      " -1 -1  0 -1  1 -1  0  1  1  0  0  1  0 -1 -1  1]\n"
     ]
    }
   ],
   "source": [
    "from scipy.io import wavfile\n",
    "fs, data = wavfile.read('lvb-sym-5-1.wav')\n",
    "data = data[:1000]\n",
    "print data"
   ]
  },
  {
   "cell_type": "code",
   "execution_count": 13,
   "metadata": {
    "collapsed": false
   },
   "outputs": [
    {
     "name": "stdout",
     "output_type": "stream",
     "text": [
      "done\n"
     ]
    }
   ],
   "source": [
    "f_song = DFT(data)\n",
    "print 'done'"
   ]
  },
  {
   "cell_type": "code",
   "execution_count": 23,
   "metadata": {
    "collapsed": false
   },
   "outputs": [],
   "source": [
    "t = np.zeros(1000)\n",
    "amp = np.zeros(1000)\n",
    "for (i, fk) in enumerate(f_song):\n",
    "    if abs(fk) > threshold:\n",
    "        #print \"frequency = \" + str(i)\n",
    "        #print \"amplitude = \" + str(abs(fk) * 2.0)\n",
    "        t[i]=i * \n",
    "        amp[i]=-10*np.log(abs(fk))"
   ]
  },
  {
   "cell_type": "code",
   "execution_count": 23,
   "metadata": {
    "collapsed": false
   },
   "outputs": [
    {
     "ename": "NameError",
     "evalue": "name 'amp' is not defined",
     "output_type": "error",
     "traceback": [
      "\u001b[0;31m---------------------------------------------------------------------------\u001b[0m",
      "\u001b[0;31mNameError\u001b[0m                                 Traceback (most recent call last)",
      "\u001b[0;32m<ipython-input-23-f619dc31b834>\u001b[0m in \u001b[0;36m<module>\u001b[0;34m()\u001b[0m\n\u001b[0;32m----> 1\u001b[0;31m \u001b[0mplt\u001b[0m\u001b[0;34m.\u001b[0m\u001b[0mplot\u001b[0m\u001b[0;34m(\u001b[0m\u001b[0mamp\u001b[0m\u001b[0;34m)\u001b[0m\u001b[0;34m\u001b[0m\u001b[0m\n\u001b[0m",
      "\u001b[0;31mNameError\u001b[0m: name 'amp' is not defined"
     ]
    }
   ],
   "source": [
    "plt.plot(amp)"
   ]
  },
  {
   "cell_type": "code",
   "execution_count": 15,
   "metadata": {
    "collapsed": true
   },
   "outputs": [],
   "source": [
    "import matplotlib.pyplot as plt\n",
    "from scipy.fftpack import fft\n",
    "from scipy.io import wavfile\n",
    "fs, data = wavfile.read('lvb-sym-5-1.wav') # load the data"
   ]
  },
  {
   "cell_type": "code",
   "execution_count": 8,
   "metadata": {
    "collapsed": false
   },
   "outputs": [
    {
     "data": {
      "image/png": "[encoded data removed]",
      "text/plain": [
       "<matplotlib.figure.Figure at 0x11614cad0>"
      ]
     },
     "metadata": {},
     "output_type": "display_data"
    }
   ],
   "source": [
    "a = data.T # this is a two channel soundtrack, I get the first track\n",
    "b=a #[(ele/2**8.)*2-1 for ele in a] # this is 8-bit track, b is now normalized on [-1,1)\n",
    "c = fft(b) # calculate fourier transform (complex numbers list)\n",
    "d = len(c)/2  # you only need half of the fft list (real signal symmetry)\n",
    "#k = arange(len(data))\n",
    "#T = len(data)/fs  # where fs is the sampling frequency\n",
    "#frqLabel = k/T  \n",
    "plt.plot(abs(c[:(d-1)]),'r') \n",
    "plt.show()"
   ]
  },
  {
   "cell_type": "code",
   "execution_count": 21,
   "metadata": {
    "collapsed": false
   },
   "outputs": [
    {
     "data": {
      "image/png": "[encoded data removed]",
      "text/plain": [
       "<matplotlib.figure.Figure at 0x11e4d3190>"
      ]
     },
     "metadata": {},
     "output_type": "display_data"
    }
   ],
   "source": [
    "k = np.arange(len(data))\n",
    "T = len(data)/fs  # where fs is the sampling frequency\n",
    "frqLabel = k/T  \n",
    "\n",
    "plt.plot(np.log(abs(c[:(d-1)])),'r') \n",
    "plt.show()"
   ]
  },
  {
   "cell_type": "code",
   "execution_count": 22,
   "metadata": {
    "collapsed": false
   },
   "outputs": [
    {
     "name": "stdout",
     "output_type": "stream",
     "text": [
      "(-5251135+0j)\n",
      "(-15956214.802380614-5941709.134297324j)\n",
      "(-2658999.3448175564+5110329.398564212j)\n",
      "(6050962.141470579+2787977.429485998j)\n",
      "(1623140.6203788957+649763.7411287014j)\n",
      "(-4517596.189588049+136831.97004101574j)\n",
      "(-7312739.721738089+5432364.212100575j)\n",
      "(4882382.464077471+1388290.363324848j)\n",
      "(6551969.429620167+2663764.4367314074j)\n",
      "(367162.7567155626+3267460.4648789456j)\n"
     ]
    }
   ],
   "source": [
    "for i in np.arange(10):\n",
    "    print (c[i])"
   ]
  },
  {
   "cell_type": "code",
   "execution_count": null,
   "metadata": {
    "collapsed": true
   },
   "outputs": [],
   "source": []
  }
 ],
 "metadata": {
  "kernelspec": {
   "display_name": "Python 2",
   "language": "python",
   "name": "python2"
  },
  "language_info": {
   "codemirror_mode": {
    "name": "ipython",
    "version": 2
   },
   "file_extension": ".py",
   "mimetype": "text/x-python",
   "name": "python",
   "nbconvert_exporter": "python",
   "pygments_lexer": "ipython2",
   "version": "2.7.13"
  }
 },
 "nbformat": 4,
 "nbformat_minor": 2
}
